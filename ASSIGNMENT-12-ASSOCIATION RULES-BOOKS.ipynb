{
 "cells": [
  {
   "cell_type": "markdown",
   "id": "d129a8e9",
   "metadata": {},
   "source": [
    "### Prepare rules for the all the data sets \n",
    "#### Try different values of support and confidence. Observe the change in number of rules for different support,confidence values\n",
    "#### Change the minimum length in apriori algorithm\n",
    "#### Visulize the obtained rules using different plots "
   ]
  },
  {
   "cell_type": "markdown",
   "id": "f7ef221e",
   "metadata": {},
   "source": [
    "### 1. IMPORT LIBRARIES"
   ]
  },
  {
   "cell_type": "code",
   "execution_count": 13,
   "id": "d6ee9a09",
   "metadata": {},
   "outputs": [],
   "source": [
    "import pandas as pd\n",
    "from mlxtend.frequent_patterns import apriori, association_rules\n",
    "from mlxtend.preprocessing import TransactionEncoder\n",
    "import matplotlib.pyplot as plt\n",
    "import seaborn as sns\n",
    "\n",
    "import warnings\n",
    "warnings.filterwarnings('ignore')"
   ]
  },
  {
   "cell_type": "code",
   "execution_count": 5,
   "id": "2faff732",
   "metadata": {},
   "outputs": [
    {
     "data": {
      "text/html": [
       "<div>\n",
       "<style scoped>\n",
       "    .dataframe tbody tr th:only-of-type {\n",
       "        vertical-align: middle;\n",
       "    }\n",
       "\n",
       "    .dataframe tbody tr th {\n",
       "        vertical-align: top;\n",
       "    }\n",
       "\n",
       "    .dataframe thead th {\n",
       "        text-align: right;\n",
       "    }\n",
       "</style>\n",
       "<table border=\"1\" class=\"dataframe\">\n",
       "  <thead>\n",
       "    <tr style=\"text-align: right;\">\n",
       "      <th></th>\n",
       "      <th>ChildBks</th>\n",
       "      <th>YouthBks</th>\n",
       "      <th>CookBks</th>\n",
       "      <th>DoItYBks</th>\n",
       "      <th>RefBks</th>\n",
       "      <th>ArtBks</th>\n",
       "      <th>GeogBks</th>\n",
       "      <th>ItalCook</th>\n",
       "      <th>ItalAtlas</th>\n",
       "      <th>ItalArt</th>\n",
       "      <th>Florence</th>\n",
       "    </tr>\n",
       "  </thead>\n",
       "  <tbody>\n",
       "    <tr>\n",
       "      <th>0</th>\n",
       "      <td>0</td>\n",
       "      <td>1</td>\n",
       "      <td>0</td>\n",
       "      <td>1</td>\n",
       "      <td>0</td>\n",
       "      <td>0</td>\n",
       "      <td>1</td>\n",
       "      <td>0</td>\n",
       "      <td>0</td>\n",
       "      <td>0</td>\n",
       "      <td>0</td>\n",
       "    </tr>\n",
       "    <tr>\n",
       "      <th>1</th>\n",
       "      <td>1</td>\n",
       "      <td>0</td>\n",
       "      <td>0</td>\n",
       "      <td>0</td>\n",
       "      <td>0</td>\n",
       "      <td>0</td>\n",
       "      <td>0</td>\n",
       "      <td>0</td>\n",
       "      <td>0</td>\n",
       "      <td>0</td>\n",
       "      <td>0</td>\n",
       "    </tr>\n",
       "    <tr>\n",
       "      <th>2</th>\n",
       "      <td>0</td>\n",
       "      <td>0</td>\n",
       "      <td>0</td>\n",
       "      <td>0</td>\n",
       "      <td>0</td>\n",
       "      <td>0</td>\n",
       "      <td>0</td>\n",
       "      <td>0</td>\n",
       "      <td>0</td>\n",
       "      <td>0</td>\n",
       "      <td>0</td>\n",
       "    </tr>\n",
       "    <tr>\n",
       "      <th>3</th>\n",
       "      <td>1</td>\n",
       "      <td>1</td>\n",
       "      <td>1</td>\n",
       "      <td>0</td>\n",
       "      <td>1</td>\n",
       "      <td>0</td>\n",
       "      <td>1</td>\n",
       "      <td>0</td>\n",
       "      <td>0</td>\n",
       "      <td>0</td>\n",
       "      <td>0</td>\n",
       "    </tr>\n",
       "    <tr>\n",
       "      <th>4</th>\n",
       "      <td>0</td>\n",
       "      <td>0</td>\n",
       "      <td>1</td>\n",
       "      <td>0</td>\n",
       "      <td>0</td>\n",
       "      <td>0</td>\n",
       "      <td>1</td>\n",
       "      <td>0</td>\n",
       "      <td>0</td>\n",
       "      <td>0</td>\n",
       "      <td>0</td>\n",
       "    </tr>\n",
       "  </tbody>\n",
       "</table>\n",
       "</div>"
      ],
      "text/plain": [
       "   ChildBks  YouthBks  CookBks  DoItYBks  RefBks  ArtBks  GeogBks  ItalCook  \\\n",
       "0         0         1        0         1       0       0        1         0   \n",
       "1         1         0        0         0       0       0        0         0   \n",
       "2         0         0        0         0       0       0        0         0   \n",
       "3         1         1        1         0       1       0        1         0   \n",
       "4         0         0        1         0       0       0        1         0   \n",
       "\n",
       "   ItalAtlas  ItalArt  Florence  \n",
       "0          0        0         0  \n",
       "1          0        0         0  \n",
       "2          0        0         0  \n",
       "3          0        0         0  \n",
       "4          0        0         0  "
      ]
     },
     "execution_count": 5,
     "metadata": {},
     "output_type": "execute_result"
    }
   ],
   "source": [
    "book_data = pd.read_csv('book.csv')\n",
    "book_data.head()"
   ]
  },
  {
   "cell_type": "markdown",
   "id": "d29d5167",
   "metadata": {},
   "source": [
    "### Apriori Algorithm"
   ]
  },
  {
   "cell_type": "markdown",
   "id": "1cc06c99",
   "metadata": {},
   "source": [
    "### 1.Try different values of support and confidence. Observe the change in number of rules for different support,confidence values"
   ]
  },
  {
   "cell_type": "code",
   "execution_count": 9,
   "id": "102c7a43",
   "metadata": {},
   "outputs": [
    {
     "data": {
      "text/html": [
       "<div>\n",
       "<style scoped>\n",
       "    .dataframe tbody tr th:only-of-type {\n",
       "        vertical-align: middle;\n",
       "    }\n",
       "\n",
       "    .dataframe tbody tr th {\n",
       "        vertical-align: top;\n",
       "    }\n",
       "\n",
       "    .dataframe thead th {\n",
       "        text-align: right;\n",
       "    }\n",
       "</style>\n",
       "<table border=\"1\" class=\"dataframe\">\n",
       "  <thead>\n",
       "    <tr style=\"text-align: right;\">\n",
       "      <th></th>\n",
       "      <th>support</th>\n",
       "      <th>itemsets</th>\n",
       "    </tr>\n",
       "  </thead>\n",
       "  <tbody>\n",
       "    <tr>\n",
       "      <th>0</th>\n",
       "      <td>0.4230</td>\n",
       "      <td>(ChildBks)</td>\n",
       "    </tr>\n",
       "    <tr>\n",
       "      <th>1</th>\n",
       "      <td>0.2475</td>\n",
       "      <td>(YouthBks)</td>\n",
       "    </tr>\n",
       "    <tr>\n",
       "      <th>2</th>\n",
       "      <td>0.4310</td>\n",
       "      <td>(CookBks)</td>\n",
       "    </tr>\n",
       "    <tr>\n",
       "      <th>3</th>\n",
       "      <td>0.2820</td>\n",
       "      <td>(DoItYBks)</td>\n",
       "    </tr>\n",
       "    <tr>\n",
       "      <th>4</th>\n",
       "      <td>0.2145</td>\n",
       "      <td>(RefBks)</td>\n",
       "    </tr>\n",
       "  </tbody>\n",
       "</table>\n",
       "</div>"
      ],
      "text/plain": [
       "   support    itemsets\n",
       "0   0.4230  (ChildBks)\n",
       "1   0.2475  (YouthBks)\n",
       "2   0.4310   (CookBks)\n",
       "3   0.2820  (DoItYBks)\n",
       "4   0.2145    (RefBks)"
      ]
     },
     "execution_count": 9,
     "metadata": {},
     "output_type": "execute_result"
    }
   ],
   "source": [
    "frequent_itemsets = apriori(book_data,min_support=0.1,use_colnames=True)\n",
    "frequent_itemsets.head()"
   ]
  },
  {
   "cell_type": "code",
   "execution_count": 10,
   "id": "42003a34",
   "metadata": {},
   "outputs": [
    {
     "data": {
      "text/html": [
       "<div>\n",
       "<style scoped>\n",
       "    .dataframe tbody tr th:only-of-type {\n",
       "        vertical-align: middle;\n",
       "    }\n",
       "\n",
       "    .dataframe tbody tr th {\n",
       "        vertical-align: top;\n",
       "    }\n",
       "\n",
       "    .dataframe thead th {\n",
       "        text-align: right;\n",
       "    }\n",
       "</style>\n",
       "<table border=\"1\" class=\"dataframe\">\n",
       "  <thead>\n",
       "    <tr style=\"text-align: right;\">\n",
       "      <th></th>\n",
       "      <th>antecedents</th>\n",
       "      <th>consequents</th>\n",
       "      <th>antecedent support</th>\n",
       "      <th>consequent support</th>\n",
       "      <th>support</th>\n",
       "      <th>confidence</th>\n",
       "      <th>lift</th>\n",
       "      <th>leverage</th>\n",
       "      <th>conviction</th>\n",
       "    </tr>\n",
       "  </thead>\n",
       "  <tbody>\n",
       "    <tr>\n",
       "      <th>0</th>\n",
       "      <td>(YouthBks)</td>\n",
       "      <td>(ChildBks)</td>\n",
       "      <td>0.2475</td>\n",
       "      <td>0.4230</td>\n",
       "      <td>0.1650</td>\n",
       "      <td>0.666667</td>\n",
       "      <td>1.576044</td>\n",
       "      <td>0.060308</td>\n",
       "      <td>1.731000</td>\n",
       "    </tr>\n",
       "    <tr>\n",
       "      <th>1</th>\n",
       "      <td>(ChildBks)</td>\n",
       "      <td>(YouthBks)</td>\n",
       "      <td>0.4230</td>\n",
       "      <td>0.2475</td>\n",
       "      <td>0.1650</td>\n",
       "      <td>0.390071</td>\n",
       "      <td>1.576044</td>\n",
       "      <td>0.060308</td>\n",
       "      <td>1.233750</td>\n",
       "    </tr>\n",
       "    <tr>\n",
       "      <th>2</th>\n",
       "      <td>(CookBks)</td>\n",
       "      <td>(ChildBks)</td>\n",
       "      <td>0.4310</td>\n",
       "      <td>0.4230</td>\n",
       "      <td>0.2560</td>\n",
       "      <td>0.593968</td>\n",
       "      <td>1.404179</td>\n",
       "      <td>0.073687</td>\n",
       "      <td>1.421069</td>\n",
       "    </tr>\n",
       "    <tr>\n",
       "      <th>3</th>\n",
       "      <td>(ChildBks)</td>\n",
       "      <td>(CookBks)</td>\n",
       "      <td>0.4230</td>\n",
       "      <td>0.4310</td>\n",
       "      <td>0.2560</td>\n",
       "      <td>0.605201</td>\n",
       "      <td>1.404179</td>\n",
       "      <td>0.073687</td>\n",
       "      <td>1.441240</td>\n",
       "    </tr>\n",
       "    <tr>\n",
       "      <th>4</th>\n",
       "      <td>(DoItYBks)</td>\n",
       "      <td>(ChildBks)</td>\n",
       "      <td>0.2820</td>\n",
       "      <td>0.4230</td>\n",
       "      <td>0.1840</td>\n",
       "      <td>0.652482</td>\n",
       "      <td>1.542511</td>\n",
       "      <td>0.064714</td>\n",
       "      <td>1.660347</td>\n",
       "    </tr>\n",
       "    <tr>\n",
       "      <th>...</th>\n",
       "      <td>...</td>\n",
       "      <td>...</td>\n",
       "      <td>...</td>\n",
       "      <td>...</td>\n",
       "      <td>...</td>\n",
       "      <td>...</td>\n",
       "      <td>...</td>\n",
       "      <td>...</td>\n",
       "      <td>...</td>\n",
       "    </tr>\n",
       "    <tr>\n",
       "      <th>95</th>\n",
       "      <td>(GeogBks, CookBks)</td>\n",
       "      <td>(ArtBks)</td>\n",
       "      <td>0.1925</td>\n",
       "      <td>0.2410</td>\n",
       "      <td>0.1035</td>\n",
       "      <td>0.537662</td>\n",
       "      <td>2.230964</td>\n",
       "      <td>0.057107</td>\n",
       "      <td>1.641657</td>\n",
       "    </tr>\n",
       "    <tr>\n",
       "      <th>96</th>\n",
       "      <td>(ArtBks, CookBks)</td>\n",
       "      <td>(GeogBks)</td>\n",
       "      <td>0.1670</td>\n",
       "      <td>0.2760</td>\n",
       "      <td>0.1035</td>\n",
       "      <td>0.619760</td>\n",
       "      <td>2.245509</td>\n",
       "      <td>0.057408</td>\n",
       "      <td>1.904063</td>\n",
       "    </tr>\n",
       "    <tr>\n",
       "      <th>97</th>\n",
       "      <td>(GeogBks)</td>\n",
       "      <td>(ArtBks, CookBks)</td>\n",
       "      <td>0.2760</td>\n",
       "      <td>0.1670</td>\n",
       "      <td>0.1035</td>\n",
       "      <td>0.375000</td>\n",
       "      <td>2.245509</td>\n",
       "      <td>0.057408</td>\n",
       "      <td>1.332800</td>\n",
       "    </tr>\n",
       "    <tr>\n",
       "      <th>98</th>\n",
       "      <td>(ArtBks)</td>\n",
       "      <td>(GeogBks, CookBks)</td>\n",
       "      <td>0.2410</td>\n",
       "      <td>0.1925</td>\n",
       "      <td>0.1035</td>\n",
       "      <td>0.429461</td>\n",
       "      <td>2.230964</td>\n",
       "      <td>0.057107</td>\n",
       "      <td>1.415327</td>\n",
       "    </tr>\n",
       "    <tr>\n",
       "      <th>99</th>\n",
       "      <td>(CookBks)</td>\n",
       "      <td>(ArtBks, GeogBks)</td>\n",
       "      <td>0.4310</td>\n",
       "      <td>0.1275</td>\n",
       "      <td>0.1035</td>\n",
       "      <td>0.240139</td>\n",
       "      <td>1.883445</td>\n",
       "      <td>0.048547</td>\n",
       "      <td>1.148237</td>\n",
       "    </tr>\n",
       "  </tbody>\n",
       "</table>\n",
       "<p>100 rows × 9 columns</p>\n",
       "</div>"
      ],
      "text/plain": [
       "           antecedents         consequents  antecedent support  \\\n",
       "0           (YouthBks)          (ChildBks)              0.2475   \n",
       "1           (ChildBks)          (YouthBks)              0.4230   \n",
       "2            (CookBks)          (ChildBks)              0.4310   \n",
       "3           (ChildBks)           (CookBks)              0.4230   \n",
       "4           (DoItYBks)          (ChildBks)              0.2820   \n",
       "..                 ...                 ...                 ...   \n",
       "95  (GeogBks, CookBks)            (ArtBks)              0.1925   \n",
       "96   (ArtBks, CookBks)           (GeogBks)              0.1670   \n",
       "97           (GeogBks)   (ArtBks, CookBks)              0.2760   \n",
       "98            (ArtBks)  (GeogBks, CookBks)              0.2410   \n",
       "99           (CookBks)   (ArtBks, GeogBks)              0.4310   \n",
       "\n",
       "    consequent support  support  confidence      lift  leverage  conviction  \n",
       "0               0.4230   0.1650    0.666667  1.576044  0.060308    1.731000  \n",
       "1               0.2475   0.1650    0.390071  1.576044  0.060308    1.233750  \n",
       "2               0.4230   0.2560    0.593968  1.404179  0.073687    1.421069  \n",
       "3               0.4310   0.2560    0.605201  1.404179  0.073687    1.441240  \n",
       "4               0.4230   0.1840    0.652482  1.542511  0.064714    1.660347  \n",
       "..                 ...      ...         ...       ...       ...         ...  \n",
       "95              0.2410   0.1035    0.537662  2.230964  0.057107    1.641657  \n",
       "96              0.2760   0.1035    0.619760  2.245509  0.057408    1.904063  \n",
       "97              0.1670   0.1035    0.375000  2.245509  0.057408    1.332800  \n",
       "98              0.1925   0.1035    0.429461  2.230964  0.057107    1.415327  \n",
       "99              0.1275   0.1035    0.240139  1.883445  0.048547    1.148237  \n",
       "\n",
       "[100 rows x 9 columns]"
      ]
     },
     "execution_count": 10,
     "metadata": {},
     "output_type": "execute_result"
    }
   ],
   "source": [
    "rules = association_rules(frequent_itemsets,metric=\"lift\",min_threshold=0.4)\n",
    "rules"
   ]
  },
  {
   "cell_type": "code",
   "execution_count": 11,
   "id": "44bfacf6",
   "metadata": {},
   "outputs": [
    {
     "data": {
      "text/html": [
       "<div>\n",
       "<style scoped>\n",
       "    .dataframe tbody tr th:only-of-type {\n",
       "        vertical-align: middle;\n",
       "    }\n",
       "\n",
       "    .dataframe tbody tr th {\n",
       "        vertical-align: top;\n",
       "    }\n",
       "\n",
       "    .dataframe thead th {\n",
       "        text-align: right;\n",
       "    }\n",
       "</style>\n",
       "<table border=\"1\" class=\"dataframe\">\n",
       "  <thead>\n",
       "    <tr style=\"text-align: right;\">\n",
       "      <th></th>\n",
       "      <th>antecedents</th>\n",
       "      <th>consequents</th>\n",
       "      <th>antecedent support</th>\n",
       "      <th>consequent support</th>\n",
       "      <th>support</th>\n",
       "      <th>confidence</th>\n",
       "      <th>lift</th>\n",
       "      <th>leverage</th>\n",
       "      <th>conviction</th>\n",
       "    </tr>\n",
       "  </thead>\n",
       "  <tbody>\n",
       "    <tr>\n",
       "      <th>29</th>\n",
       "      <td>(CookBks)</td>\n",
       "      <td>(ItalCook)</td>\n",
       "      <td>0.4310</td>\n",
       "      <td>0.1135</td>\n",
       "      <td>0.1135</td>\n",
       "      <td>0.263341</td>\n",
       "      <td>2.320186</td>\n",
       "      <td>0.064582</td>\n",
       "      <td>1.203406</td>\n",
       "    </tr>\n",
       "    <tr>\n",
       "      <th>28</th>\n",
       "      <td>(ItalCook)</td>\n",
       "      <td>(CookBks)</td>\n",
       "      <td>0.1135</td>\n",
       "      <td>0.4310</td>\n",
       "      <td>0.1135</td>\n",
       "      <td>1.000000</td>\n",
       "      <td>2.320186</td>\n",
       "      <td>0.064582</td>\n",
       "      <td>inf</td>\n",
       "    </tr>\n",
       "    <tr>\n",
       "      <th>78</th>\n",
       "      <td>(ArtBks, ChildBks)</td>\n",
       "      <td>(GeogBks)</td>\n",
       "      <td>0.1625</td>\n",
       "      <td>0.2760</td>\n",
       "      <td>0.1020</td>\n",
       "      <td>0.627692</td>\n",
       "      <td>2.274247</td>\n",
       "      <td>0.057150</td>\n",
       "      <td>1.944628</td>\n",
       "    </tr>\n",
       "    <tr>\n",
       "      <th>79</th>\n",
       "      <td>(GeogBks)</td>\n",
       "      <td>(ArtBks, ChildBks)</td>\n",
       "      <td>0.2760</td>\n",
       "      <td>0.1625</td>\n",
       "      <td>0.1020</td>\n",
       "      <td>0.369565</td>\n",
       "      <td>2.274247</td>\n",
       "      <td>0.057150</td>\n",
       "      <td>1.328448</td>\n",
       "    </tr>\n",
       "    <tr>\n",
       "      <th>85</th>\n",
       "      <td>(ArtBks)</td>\n",
       "      <td>(CookBks, DoItYBks)</td>\n",
       "      <td>0.2410</td>\n",
       "      <td>0.1875</td>\n",
       "      <td>0.1015</td>\n",
       "      <td>0.421162</td>\n",
       "      <td>2.246196</td>\n",
       "      <td>0.056313</td>\n",
       "      <td>1.403674</td>\n",
       "    </tr>\n",
       "    <tr>\n",
       "      <th>84</th>\n",
       "      <td>(CookBks, DoItYBks)</td>\n",
       "      <td>(ArtBks)</td>\n",
       "      <td>0.1875</td>\n",
       "      <td>0.2410</td>\n",
       "      <td>0.1015</td>\n",
       "      <td>0.541333</td>\n",
       "      <td>2.246196</td>\n",
       "      <td>0.056313</td>\n",
       "      <td>1.654797</td>\n",
       "    </tr>\n",
       "    <tr>\n",
       "      <th>97</th>\n",
       "      <td>(GeogBks)</td>\n",
       "      <td>(ArtBks, CookBks)</td>\n",
       "      <td>0.2760</td>\n",
       "      <td>0.1670</td>\n",
       "      <td>0.1035</td>\n",
       "      <td>0.375000</td>\n",
       "      <td>2.245509</td>\n",
       "      <td>0.057408</td>\n",
       "      <td>1.332800</td>\n",
       "    </tr>\n",
       "    <tr>\n",
       "      <th>96</th>\n",
       "      <td>(ArtBks, CookBks)</td>\n",
       "      <td>(GeogBks)</td>\n",
       "      <td>0.1670</td>\n",
       "      <td>0.2760</td>\n",
       "      <td>0.1035</td>\n",
       "      <td>0.619760</td>\n",
       "      <td>2.245509</td>\n",
       "      <td>0.057408</td>\n",
       "      <td>1.904063</td>\n",
       "    </tr>\n",
       "    <tr>\n",
       "      <th>95</th>\n",
       "      <td>(GeogBks, CookBks)</td>\n",
       "      <td>(ArtBks)</td>\n",
       "      <td>0.1925</td>\n",
       "      <td>0.2410</td>\n",
       "      <td>0.1035</td>\n",
       "      <td>0.537662</td>\n",
       "      <td>2.230964</td>\n",
       "      <td>0.057107</td>\n",
       "      <td>1.641657</td>\n",
       "    </tr>\n",
       "    <tr>\n",
       "      <th>98</th>\n",
       "      <td>(ArtBks)</td>\n",
       "      <td>(GeogBks, CookBks)</td>\n",
       "      <td>0.2410</td>\n",
       "      <td>0.1925</td>\n",
       "      <td>0.1035</td>\n",
       "      <td>0.429461</td>\n",
       "      <td>2.230964</td>\n",
       "      <td>0.057107</td>\n",
       "      <td>1.415327</td>\n",
       "    </tr>\n",
       "    <tr>\n",
       "      <th>54</th>\n",
       "      <td>(CookBks, ChildBks)</td>\n",
       "      <td>(RefBks)</td>\n",
       "      <td>0.2560</td>\n",
       "      <td>0.2145</td>\n",
       "      <td>0.1225</td>\n",
       "      <td>0.478516</td>\n",
       "      <td>2.230842</td>\n",
       "      <td>0.067588</td>\n",
       "      <td>1.506277</td>\n",
       "    </tr>\n",
       "    <tr>\n",
       "      <th>55</th>\n",
       "      <td>(RefBks)</td>\n",
       "      <td>(CookBks, ChildBks)</td>\n",
       "      <td>0.2145</td>\n",
       "      <td>0.2560</td>\n",
       "      <td>0.1225</td>\n",
       "      <td>0.571096</td>\n",
       "      <td>2.230842</td>\n",
       "      <td>0.067588</td>\n",
       "      <td>1.734652</td>\n",
       "    </tr>\n",
       "    <tr>\n",
       "      <th>77</th>\n",
       "      <td>(GeogBks, ChildBks)</td>\n",
       "      <td>(ArtBks)</td>\n",
       "      <td>0.1950</td>\n",
       "      <td>0.2410</td>\n",
       "      <td>0.1020</td>\n",
       "      <td>0.523077</td>\n",
       "      <td>2.170444</td>\n",
       "      <td>0.055005</td>\n",
       "      <td>1.591452</td>\n",
       "    </tr>\n",
       "    <tr>\n",
       "      <th>80</th>\n",
       "      <td>(ArtBks)</td>\n",
       "      <td>(GeogBks, ChildBks)</td>\n",
       "      <td>0.2410</td>\n",
       "      <td>0.1950</td>\n",
       "      <td>0.1020</td>\n",
       "      <td>0.423237</td>\n",
       "      <td>2.170444</td>\n",
       "      <td>0.055005</td>\n",
       "      <td>1.395719</td>\n",
       "    </tr>\n",
       "    <tr>\n",
       "      <th>87</th>\n",
       "      <td>(DoItYBks)</td>\n",
       "      <td>(ArtBks, CookBks)</td>\n",
       "      <td>0.2820</td>\n",
       "      <td>0.1670</td>\n",
       "      <td>0.1015</td>\n",
       "      <td>0.359929</td>\n",
       "      <td>2.155264</td>\n",
       "      <td>0.054406</td>\n",
       "      <td>1.301418</td>\n",
       "    </tr>\n",
       "    <tr>\n",
       "      <th>82</th>\n",
       "      <td>(ArtBks, CookBks)</td>\n",
       "      <td>(DoItYBks)</td>\n",
       "      <td>0.1670</td>\n",
       "      <td>0.2820</td>\n",
       "      <td>0.1015</td>\n",
       "      <td>0.607784</td>\n",
       "      <td>2.155264</td>\n",
       "      <td>0.054406</td>\n",
       "      <td>1.830626</td>\n",
       "    </tr>\n",
       "    <tr>\n",
       "      <th>66</th>\n",
       "      <td>(CookBks, ChildBks)</td>\n",
       "      <td>(GeogBks)</td>\n",
       "      <td>0.2560</td>\n",
       "      <td>0.2760</td>\n",
       "      <td>0.1495</td>\n",
       "      <td>0.583984</td>\n",
       "      <td>2.115885</td>\n",
       "      <td>0.078844</td>\n",
       "      <td>1.740319</td>\n",
       "    </tr>\n",
       "    <tr>\n",
       "      <th>67</th>\n",
       "      <td>(GeogBks)</td>\n",
       "      <td>(CookBks, ChildBks)</td>\n",
       "      <td>0.2760</td>\n",
       "      <td>0.2560</td>\n",
       "      <td>0.1495</td>\n",
       "      <td>0.541667</td>\n",
       "      <td>2.115885</td>\n",
       "      <td>0.078844</td>\n",
       "      <td>1.623273</td>\n",
       "    </tr>\n",
       "    <tr>\n",
       "      <th>91</th>\n",
       "      <td>(GeogBks)</td>\n",
       "      <td>(CookBks, DoItYBks)</td>\n",
       "      <td>0.2760</td>\n",
       "      <td>0.1875</td>\n",
       "      <td>0.1085</td>\n",
       "      <td>0.393116</td>\n",
       "      <td>2.096618</td>\n",
       "      <td>0.056750</td>\n",
       "      <td>1.338806</td>\n",
       "    </tr>\n",
       "    <tr>\n",
       "      <th>90</th>\n",
       "      <td>(CookBks, DoItYBks)</td>\n",
       "      <td>(GeogBks)</td>\n",
       "      <td>0.1875</td>\n",
       "      <td>0.2760</td>\n",
       "      <td>0.1085</td>\n",
       "      <td>0.578667</td>\n",
       "      <td>2.096618</td>\n",
       "      <td>0.056750</td>\n",
       "      <td>1.718354</td>\n",
       "    </tr>\n",
       "  </tbody>\n",
       "</table>\n",
       "</div>"
      ],
      "text/plain": [
       "            antecedents          consequents  antecedent support  \\\n",
       "29            (CookBks)           (ItalCook)              0.4310   \n",
       "28           (ItalCook)            (CookBks)              0.1135   \n",
       "78   (ArtBks, ChildBks)            (GeogBks)              0.1625   \n",
       "79            (GeogBks)   (ArtBks, ChildBks)              0.2760   \n",
       "85             (ArtBks)  (CookBks, DoItYBks)              0.2410   \n",
       "84  (CookBks, DoItYBks)             (ArtBks)              0.1875   \n",
       "97            (GeogBks)    (ArtBks, CookBks)              0.2760   \n",
       "96    (ArtBks, CookBks)            (GeogBks)              0.1670   \n",
       "95   (GeogBks, CookBks)             (ArtBks)              0.1925   \n",
       "98             (ArtBks)   (GeogBks, CookBks)              0.2410   \n",
       "54  (CookBks, ChildBks)             (RefBks)              0.2560   \n",
       "55             (RefBks)  (CookBks, ChildBks)              0.2145   \n",
       "77  (GeogBks, ChildBks)             (ArtBks)              0.1950   \n",
       "80             (ArtBks)  (GeogBks, ChildBks)              0.2410   \n",
       "87           (DoItYBks)    (ArtBks, CookBks)              0.2820   \n",
       "82    (ArtBks, CookBks)           (DoItYBks)              0.1670   \n",
       "66  (CookBks, ChildBks)            (GeogBks)              0.2560   \n",
       "67            (GeogBks)  (CookBks, ChildBks)              0.2760   \n",
       "91            (GeogBks)  (CookBks, DoItYBks)              0.2760   \n",
       "90  (CookBks, DoItYBks)            (GeogBks)              0.1875   \n",
       "\n",
       "    consequent support  support  confidence      lift  leverage  conviction  \n",
       "29              0.1135   0.1135    0.263341  2.320186  0.064582    1.203406  \n",
       "28              0.4310   0.1135    1.000000  2.320186  0.064582         inf  \n",
       "78              0.2760   0.1020    0.627692  2.274247  0.057150    1.944628  \n",
       "79              0.1625   0.1020    0.369565  2.274247  0.057150    1.328448  \n",
       "85              0.1875   0.1015    0.421162  2.246196  0.056313    1.403674  \n",
       "84              0.2410   0.1015    0.541333  2.246196  0.056313    1.654797  \n",
       "97              0.1670   0.1035    0.375000  2.245509  0.057408    1.332800  \n",
       "96              0.2760   0.1035    0.619760  2.245509  0.057408    1.904063  \n",
       "95              0.2410   0.1035    0.537662  2.230964  0.057107    1.641657  \n",
       "98              0.1925   0.1035    0.429461  2.230964  0.057107    1.415327  \n",
       "54              0.2145   0.1225    0.478516  2.230842  0.067588    1.506277  \n",
       "55              0.2560   0.1225    0.571096  2.230842  0.067588    1.734652  \n",
       "77              0.2410   0.1020    0.523077  2.170444  0.055005    1.591452  \n",
       "80              0.1950   0.1020    0.423237  2.170444  0.055005    1.395719  \n",
       "87              0.1670   0.1015    0.359929  2.155264  0.054406    1.301418  \n",
       "82              0.2820   0.1015    0.607784  2.155264  0.054406    1.830626  \n",
       "66              0.2760   0.1495    0.583984  2.115885  0.078844    1.740319  \n",
       "67              0.2560   0.1495    0.541667  2.115885  0.078844    1.623273  \n",
       "91              0.1875   0.1085    0.393116  2.096618  0.056750    1.338806  \n",
       "90              0.2760   0.1085    0.578667  2.096618  0.056750    1.718354  "
      ]
     },
     "execution_count": 11,
     "metadata": {},
     "output_type": "execute_result"
    }
   ],
   "source": [
    "rules.sort_values('lift',ascending=False)[0:20]"
   ]
  },
  {
   "cell_type": "code",
   "execution_count": 12,
   "id": "c36dfa1d",
   "metadata": {},
   "outputs": [
    {
     "data": {
      "text/html": [
       "<div>\n",
       "<style scoped>\n",
       "    .dataframe tbody tr th:only-of-type {\n",
       "        vertical-align: middle;\n",
       "    }\n",
       "\n",
       "    .dataframe tbody tr th {\n",
       "        vertical-align: top;\n",
       "    }\n",
       "\n",
       "    .dataframe thead th {\n",
       "        text-align: right;\n",
       "    }\n",
       "</style>\n",
       "<table border=\"1\" class=\"dataframe\">\n",
       "  <thead>\n",
       "    <tr style=\"text-align: right;\">\n",
       "      <th></th>\n",
       "      <th>antecedents</th>\n",
       "      <th>consequents</th>\n",
       "      <th>antecedent support</th>\n",
       "      <th>consequent support</th>\n",
       "      <th>support</th>\n",
       "      <th>confidence</th>\n",
       "      <th>lift</th>\n",
       "      <th>leverage</th>\n",
       "      <th>conviction</th>\n",
       "    </tr>\n",
       "  </thead>\n",
       "  <tbody>\n",
       "    <tr>\n",
       "      <th>0</th>\n",
       "      <td>(YouthBks)</td>\n",
       "      <td>(ChildBks)</td>\n",
       "      <td>0.2475</td>\n",
       "      <td>0.4230</td>\n",
       "      <td>0.1650</td>\n",
       "      <td>0.666667</td>\n",
       "      <td>1.576044</td>\n",
       "      <td>0.060308</td>\n",
       "      <td>1.731000</td>\n",
       "    </tr>\n",
       "    <tr>\n",
       "      <th>1</th>\n",
       "      <td>(ChildBks)</td>\n",
       "      <td>(YouthBks)</td>\n",
       "      <td>0.4230</td>\n",
       "      <td>0.2475</td>\n",
       "      <td>0.1650</td>\n",
       "      <td>0.390071</td>\n",
       "      <td>1.576044</td>\n",
       "      <td>0.060308</td>\n",
       "      <td>1.233750</td>\n",
       "    </tr>\n",
       "    <tr>\n",
       "      <th>2</th>\n",
       "      <td>(CookBks)</td>\n",
       "      <td>(ChildBks)</td>\n",
       "      <td>0.4310</td>\n",
       "      <td>0.4230</td>\n",
       "      <td>0.2560</td>\n",
       "      <td>0.593968</td>\n",
       "      <td>1.404179</td>\n",
       "      <td>0.073687</td>\n",
       "      <td>1.421069</td>\n",
       "    </tr>\n",
       "    <tr>\n",
       "      <th>3</th>\n",
       "      <td>(ChildBks)</td>\n",
       "      <td>(CookBks)</td>\n",
       "      <td>0.4230</td>\n",
       "      <td>0.4310</td>\n",
       "      <td>0.2560</td>\n",
       "      <td>0.605201</td>\n",
       "      <td>1.404179</td>\n",
       "      <td>0.073687</td>\n",
       "      <td>1.441240</td>\n",
       "    </tr>\n",
       "    <tr>\n",
       "      <th>4</th>\n",
       "      <td>(DoItYBks)</td>\n",
       "      <td>(ChildBks)</td>\n",
       "      <td>0.2820</td>\n",
       "      <td>0.4230</td>\n",
       "      <td>0.1840</td>\n",
       "      <td>0.652482</td>\n",
       "      <td>1.542511</td>\n",
       "      <td>0.064714</td>\n",
       "      <td>1.660347</td>\n",
       "    </tr>\n",
       "    <tr>\n",
       "      <th>...</th>\n",
       "      <td>...</td>\n",
       "      <td>...</td>\n",
       "      <td>...</td>\n",
       "      <td>...</td>\n",
       "      <td>...</td>\n",
       "      <td>...</td>\n",
       "      <td>...</td>\n",
       "      <td>...</td>\n",
       "      <td>...</td>\n",
       "    </tr>\n",
       "    <tr>\n",
       "      <th>95</th>\n",
       "      <td>(GeogBks, CookBks)</td>\n",
       "      <td>(ArtBks)</td>\n",
       "      <td>0.1925</td>\n",
       "      <td>0.2410</td>\n",
       "      <td>0.1035</td>\n",
       "      <td>0.537662</td>\n",
       "      <td>2.230964</td>\n",
       "      <td>0.057107</td>\n",
       "      <td>1.641657</td>\n",
       "    </tr>\n",
       "    <tr>\n",
       "      <th>96</th>\n",
       "      <td>(ArtBks, CookBks)</td>\n",
       "      <td>(GeogBks)</td>\n",
       "      <td>0.1670</td>\n",
       "      <td>0.2760</td>\n",
       "      <td>0.1035</td>\n",
       "      <td>0.619760</td>\n",
       "      <td>2.245509</td>\n",
       "      <td>0.057408</td>\n",
       "      <td>1.904063</td>\n",
       "    </tr>\n",
       "    <tr>\n",
       "      <th>97</th>\n",
       "      <td>(GeogBks)</td>\n",
       "      <td>(ArtBks, CookBks)</td>\n",
       "      <td>0.2760</td>\n",
       "      <td>0.1670</td>\n",
       "      <td>0.1035</td>\n",
       "      <td>0.375000</td>\n",
       "      <td>2.245509</td>\n",
       "      <td>0.057408</td>\n",
       "      <td>1.332800</td>\n",
       "    </tr>\n",
       "    <tr>\n",
       "      <th>98</th>\n",
       "      <td>(ArtBks)</td>\n",
       "      <td>(GeogBks, CookBks)</td>\n",
       "      <td>0.2410</td>\n",
       "      <td>0.1925</td>\n",
       "      <td>0.1035</td>\n",
       "      <td>0.429461</td>\n",
       "      <td>2.230964</td>\n",
       "      <td>0.057107</td>\n",
       "      <td>1.415327</td>\n",
       "    </tr>\n",
       "    <tr>\n",
       "      <th>99</th>\n",
       "      <td>(CookBks)</td>\n",
       "      <td>(ArtBks, GeogBks)</td>\n",
       "      <td>0.4310</td>\n",
       "      <td>0.1275</td>\n",
       "      <td>0.1035</td>\n",
       "      <td>0.240139</td>\n",
       "      <td>1.883445</td>\n",
       "      <td>0.048547</td>\n",
       "      <td>1.148237</td>\n",
       "    </tr>\n",
       "  </tbody>\n",
       "</table>\n",
       "<p>100 rows × 9 columns</p>\n",
       "</div>"
      ],
      "text/plain": [
       "           antecedents         consequents  antecedent support  \\\n",
       "0           (YouthBks)          (ChildBks)              0.2475   \n",
       "1           (ChildBks)          (YouthBks)              0.4230   \n",
       "2            (CookBks)          (ChildBks)              0.4310   \n",
       "3           (ChildBks)           (CookBks)              0.4230   \n",
       "4           (DoItYBks)          (ChildBks)              0.2820   \n",
       "..                 ...                 ...                 ...   \n",
       "95  (GeogBks, CookBks)            (ArtBks)              0.1925   \n",
       "96   (ArtBks, CookBks)           (GeogBks)              0.1670   \n",
       "97           (GeogBks)   (ArtBks, CookBks)              0.2760   \n",
       "98            (ArtBks)  (GeogBks, CookBks)              0.2410   \n",
       "99           (CookBks)   (ArtBks, GeogBks)              0.4310   \n",
       "\n",
       "    consequent support  support  confidence      lift  leverage  conviction  \n",
       "0               0.4230   0.1650    0.666667  1.576044  0.060308    1.731000  \n",
       "1               0.2475   0.1650    0.390071  1.576044  0.060308    1.233750  \n",
       "2               0.4230   0.2560    0.593968  1.404179  0.073687    1.421069  \n",
       "3               0.4310   0.2560    0.605201  1.404179  0.073687    1.441240  \n",
       "4               0.4230   0.1840    0.652482  1.542511  0.064714    1.660347  \n",
       "..                 ...      ...         ...       ...       ...         ...  \n",
       "95              0.2410   0.1035    0.537662  2.230964  0.057107    1.641657  \n",
       "96              0.2760   0.1035    0.619760  2.245509  0.057408    1.904063  \n",
       "97              0.1670   0.1035    0.375000  2.245509  0.057408    1.332800  \n",
       "98              0.1925   0.1035    0.429461  2.230964  0.057107    1.415327  \n",
       "99              0.1275   0.1035    0.240139  1.883445  0.048547    1.148237  \n",
       "\n",
       "[100 rows x 9 columns]"
      ]
     },
     "execution_count": 12,
     "metadata": {},
     "output_type": "execute_result"
    }
   ],
   "source": [
    "rules[rules.lift>1]"
   ]
  },
  {
   "cell_type": "markdown",
   "id": "d4c3a2bc",
   "metadata": {},
   "source": [
    "### Visualization Of Rules"
   ]
  },
  {
   "cell_type": "code",
   "execution_count": 14,
   "id": "bf21987d",
   "metadata": {},
   "outputs": [
    {
     "data": {
      "text/plain": [
       "<AxesSubplot:xlabel='lift', ylabel='count'>"
      ]
     },
     "execution_count": 14,
     "metadata": {},
     "output_type": "execute_result"
    },
    {
     "data": {
      "image/png": "[encoded data removed]",
      "text/plain": [
       "<Figure size 432x288 with 1 Axes>"
      ]
     },
     "metadata": {
      "needs_background": "light"
     },
     "output_type": "display_data"
    }
   ],
   "source": [
    "sns.countplot(rules['lift'])"
   ]
  },
  {
   "cell_type": "code",
   "execution_count": 15,
   "id": "95c35fa3",
   "metadata": {},
   "outputs": [
    {
     "data": {
      "text/plain": [
       "<AxesSubplot:xlabel='lift'>"
      ]
     },
     "execution_count": 15,
     "metadata": {},
     "output_type": "execute_result"
    },
    {
     "data": {
      "image/png": "[encoded data removed]",
      "text/plain": [
       "<Figure size 432x288 with 1 Axes>"
      ]
     },
     "metadata": {
      "needs_background": "light"
     },
     "output_type": "display_data"
    }
   ],
   "source": [
    "sns.boxplot(rules['lift'])"
   ]
  },
  {
   "cell_type": "code",
   "execution_count": 17,
   "id": "b6f8d52a",
   "metadata": {},
   "outputs": [
    {
     "data": {
      "text/plain": [
       "<AxesSubplot:xlabel='leverage'>"
      ]
     },
     "execution_count": 17,
     "metadata": {},
     "output_type": "execute_result"
    },
    {
     "data": {
      "image/png": "[encoded data removed]",
      "text/plain": [
       "<Figure size 432x288 with 1 Axes>"
      ]
     },
     "metadata": {
      "needs_background": "light"
     },
     "output_type": "display_data"
    }
   ],
   "source": [
    "sns.boxplot(rules['leverage'], color='red')"
   ]
  },
  {
   "cell_type": "code",
   "execution_count": 18,
   "id": "ce0811b4",
   "metadata": {},
   "outputs": [
    {
     "data": {
      "text/plain": [
       "<AxesSubplot:xlabel='confidence'>"
      ]
     },
     "execution_count": 18,
     "metadata": {},
     "output_type": "execute_result"
    },
    {
     "data": {
      "image/png": "[encoded data removed]",
      "text/plain": [
       "<Figure size 432x288 with 1 Axes>"
      ]
     },
     "metadata": {
      "needs_background": "light"
     },
     "output_type": "display_data"
    }
   ],
   "source": [
    "sns.boxplot(rules['confidence'], color=\"grey\")"
   ]
  },
  {
   "cell_type": "code",
   "execution_count": 19,
   "id": "6f03b197",
   "metadata": {},
   "outputs": [
    {
     "data": {
      "text/plain": [
       "<AxesSubplot:xlabel='support'>"
      ]
     },
     "execution_count": 19,
     "metadata": {},
     "output_type": "execute_result"
    },
    {
     "data": {
      "image/png": "[encoded data removed]",
      "text/plain": [
       "<Figure size 432x288 with 1 Axes>"
      ]
     },
     "metadata": {
      "needs_background": "light"
     },
     "output_type": "display_data"
    }
   ],
   "source": [
    "sns.boxplot(rules['support'], color=\"grey\")"
   ]
  },
  {
   "cell_type": "code",
   "execution_count": 20,
   "id": "6bf16d75",
   "metadata": {},
   "outputs": [
    {
     "data": {
      "text/plain": [
       "<AxesSubplot:xlabel='support', ylabel='confidence'>"
      ]
     },
     "execution_count": 20,
     "metadata": {},
     "output_type": "execute_result"
    },
    {
     "data": {
      "image/png": "[encoded data removed]",
      "text/plain": [
       "<Figure size 432x288 with 1 Axes>"
      ]
     },
     "metadata": {
      "needs_background": "light"
     },
     "output_type": "display_data"
    }
   ],
   "source": [
    "sns.boxplot(x=\"support\", y=\"confidence\", data=rules)"
   ]
  },
  {
   "cell_type": "code",
   "execution_count": 21,
   "id": "ebb581e4",
   "metadata": {},
   "outputs": [
    {
     "data": {
      "text/plain": [
       "<AxesSubplot:xlabel='lift', ylabel='confidence'>"
      ]
     },
     "execution_count": 21,
     "metadata": {},
     "output_type": "execute_result"
    },
    {
     "data": {
      "image/png": "[encoded data removed]",
      "text/plain": [
       "<Figure size 432x288 with 1 Axes>"
      ]
     },
     "metadata": {
      "needs_background": "light"
     },
     "output_type": "display_data"
    }
   ],
   "source": [
    "sns.scatterplot(x=\"lift\",y=\"confidence\",data=rules)"
   ]
  },
  {
   "cell_type": "code",
   "execution_count": 22,
   "id": "8678048f",
   "metadata": {},
   "outputs": [
    {
     "data": {
      "text/plain": [
       "Text(0.5, 0, 'lift')"
      ]
     },
     "execution_count": 22,
     "metadata": {},
     "output_type": "execute_result"
    },
    {
     "data": {
      "image/png": "[encoded data removed]",
      "text/plain": [
       "<Figure size 432x288 with 1 Axes>"
      ]
     },
     "metadata": {
      "needs_background": "light"
     },
     "output_type": "display_data"
    }
   ],
   "source": [
    "plt.hist(rules[\"lift\"], facecolor=\"peru\", edgecolor=\"blue\", bins=5)\n",
    "plt.xlabel('lift')"
   ]
  },
  {
   "cell_type": "markdown",
   "id": "7278cf0a",
   "metadata": {},
   "source": [
    "### Change the minimum length in apriori algorithm"
   ]
  },
  {
   "cell_type": "code",
   "execution_count": 23,
   "id": "53d78320",
   "metadata": {},
   "outputs": [
    {
     "data": {
      "text/html": [
       "<div>\n",
       "<style scoped>\n",
       "    .dataframe tbody tr th:only-of-type {\n",
       "        vertical-align: middle;\n",
       "    }\n",
       "\n",
       "    .dataframe tbody tr th {\n",
       "        vertical-align: top;\n",
       "    }\n",
       "\n",
       "    .dataframe thead th {\n",
       "        text-align: right;\n",
       "    }\n",
       "</style>\n",
       "<table border=\"1\" class=\"dataframe\">\n",
       "  <thead>\n",
       "    <tr style=\"text-align: right;\">\n",
       "      <th></th>\n",
       "      <th>support</th>\n",
       "      <th>itemsets</th>\n",
       "    </tr>\n",
       "  </thead>\n",
       "  <tbody>\n",
       "    <tr>\n",
       "      <th>0</th>\n",
       "      <td>0.4230</td>\n",
       "      <td>(ChildBks)</td>\n",
       "    </tr>\n",
       "    <tr>\n",
       "      <th>1</th>\n",
       "      <td>0.2475</td>\n",
       "      <td>(YouthBks)</td>\n",
       "    </tr>\n",
       "    <tr>\n",
       "      <th>2</th>\n",
       "      <td>0.4310</td>\n",
       "      <td>(CookBks)</td>\n",
       "    </tr>\n",
       "    <tr>\n",
       "      <th>3</th>\n",
       "      <td>0.2820</td>\n",
       "      <td>(DoItYBks)</td>\n",
       "    </tr>\n",
       "    <tr>\n",
       "      <th>4</th>\n",
       "      <td>0.2145</td>\n",
       "      <td>(RefBks)</td>\n",
       "    </tr>\n",
       "    <tr>\n",
       "      <th>5</th>\n",
       "      <td>0.2410</td>\n",
       "      <td>(ArtBks)</td>\n",
       "    </tr>\n",
       "    <tr>\n",
       "      <th>6</th>\n",
       "      <td>0.2760</td>\n",
       "      <td>(GeogBks)</td>\n",
       "    </tr>\n",
       "    <tr>\n",
       "      <th>7</th>\n",
       "      <td>0.2560</td>\n",
       "      <td>(CookBks, ChildBks)</td>\n",
       "    </tr>\n",
       "  </tbody>\n",
       "</table>\n",
       "</div>"
      ],
      "text/plain": [
       "   support             itemsets\n",
       "0   0.4230           (ChildBks)\n",
       "1   0.2475           (YouthBks)\n",
       "2   0.4310            (CookBks)\n",
       "3   0.2820           (DoItYBks)\n",
       "4   0.2145             (RefBks)\n",
       "5   0.2410             (ArtBks)\n",
       "6   0.2760            (GeogBks)\n",
       "7   0.2560  (CookBks, ChildBks)"
      ]
     },
     "execution_count": 23,
     "metadata": {},
     "output_type": "execute_result"
    }
   ],
   "source": [
    "frequent_itemsets = apriori(book_data, min_support=0.2, use_colnames=True)\n",
    "frequent_itemsets"
   ]
  },
  {
   "cell_type": "code",
   "execution_count": 24,
   "id": "88e9080f",
   "metadata": {},
   "outputs": [
    {
     "data": {
      "text/html": [
       "<div>\n",
       "<style scoped>\n",
       "    .dataframe tbody tr th:only-of-type {\n",
       "        vertical-align: middle;\n",
       "    }\n",
       "\n",
       "    .dataframe tbody tr th {\n",
       "        vertical-align: top;\n",
       "    }\n",
       "\n",
       "    .dataframe thead th {\n",
       "        text-align: right;\n",
       "    }\n",
       "</style>\n",
       "<table border=\"1\" class=\"dataframe\">\n",
       "  <thead>\n",
       "    <tr style=\"text-align: right;\">\n",
       "      <th></th>\n",
       "      <th>antecedents</th>\n",
       "      <th>consequents</th>\n",
       "      <th>antecedent support</th>\n",
       "      <th>consequent support</th>\n",
       "      <th>support</th>\n",
       "      <th>confidence</th>\n",
       "      <th>lift</th>\n",
       "      <th>leverage</th>\n",
       "      <th>conviction</th>\n",
       "    </tr>\n",
       "  </thead>\n",
       "  <tbody>\n",
       "    <tr>\n",
       "      <th>0</th>\n",
       "      <td>(CookBks)</td>\n",
       "      <td>(ChildBks)</td>\n",
       "      <td>0.431</td>\n",
       "      <td>0.423</td>\n",
       "      <td>0.256</td>\n",
       "      <td>0.593968</td>\n",
       "      <td>1.404179</td>\n",
       "      <td>0.073687</td>\n",
       "      <td>1.421069</td>\n",
       "    </tr>\n",
       "    <tr>\n",
       "      <th>1</th>\n",
       "      <td>(ChildBks)</td>\n",
       "      <td>(CookBks)</td>\n",
       "      <td>0.423</td>\n",
       "      <td>0.431</td>\n",
       "      <td>0.256</td>\n",
       "      <td>0.605201</td>\n",
       "      <td>1.404179</td>\n",
       "      <td>0.073687</td>\n",
       "      <td>1.441240</td>\n",
       "    </tr>\n",
       "  </tbody>\n",
       "</table>\n",
       "</div>"
      ],
      "text/plain": [
       "  antecedents consequents  antecedent support  consequent support  support  \\\n",
       "0   (CookBks)  (ChildBks)               0.431               0.423    0.256   \n",
       "1  (ChildBks)   (CookBks)               0.423               0.431    0.256   \n",
       "\n",
       "   confidence      lift  leverage  conviction  \n",
       "0    0.593968  1.404179  0.073687    1.421069  \n",
       "1    0.605201  1.404179  0.073687    1.441240  "
      ]
     },
     "execution_count": 24,
     "metadata": {},
     "output_type": "execute_result"
    }
   ],
   "source": [
    "rules = association_rules(frequent_itemsets,metric=\"lift\",min_threshold=0.6)\n",
    "rules"
   ]
  },
  {
   "cell_type": "code",
   "execution_count": 25,
   "id": "de224a56",
   "metadata": {},
   "outputs": [
    {
     "data": {
      "text/html": [
       "<div>\n",
       "<style scoped>\n",
       "    .dataframe tbody tr th:only-of-type {\n",
       "        vertical-align: middle;\n",
       "    }\n",
       "\n",
       "    .dataframe tbody tr th {\n",
       "        vertical-align: top;\n",
       "    }\n",
       "\n",
       "    .dataframe thead th {\n",
       "        text-align: right;\n",
       "    }\n",
       "</style>\n",
       "<table border=\"1\" class=\"dataframe\">\n",
       "  <thead>\n",
       "    <tr style=\"text-align: right;\">\n",
       "      <th></th>\n",
       "      <th>antecedents</th>\n",
       "      <th>consequents</th>\n",
       "      <th>antecedent support</th>\n",
       "      <th>consequent support</th>\n",
       "      <th>support</th>\n",
       "      <th>confidence</th>\n",
       "      <th>lift</th>\n",
       "      <th>leverage</th>\n",
       "      <th>conviction</th>\n",
       "    </tr>\n",
       "  </thead>\n",
       "  <tbody>\n",
       "    <tr>\n",
       "      <th>0</th>\n",
       "      <td>(CookBks)</td>\n",
       "      <td>(ChildBks)</td>\n",
       "      <td>0.431</td>\n",
       "      <td>0.423</td>\n",
       "      <td>0.256</td>\n",
       "      <td>0.593968</td>\n",
       "      <td>1.404179</td>\n",
       "      <td>0.073687</td>\n",
       "      <td>1.421069</td>\n",
       "    </tr>\n",
       "    <tr>\n",
       "      <th>1</th>\n",
       "      <td>(ChildBks)</td>\n",
       "      <td>(CookBks)</td>\n",
       "      <td>0.423</td>\n",
       "      <td>0.431</td>\n",
       "      <td>0.256</td>\n",
       "      <td>0.605201</td>\n",
       "      <td>1.404179</td>\n",
       "      <td>0.073687</td>\n",
       "      <td>1.441240</td>\n",
       "    </tr>\n",
       "  </tbody>\n",
       "</table>\n",
       "</div>"
      ],
      "text/plain": [
       "  antecedents consequents  antecedent support  consequent support  support  \\\n",
       "0   (CookBks)  (ChildBks)               0.431               0.423    0.256   \n",
       "1  (ChildBks)   (CookBks)               0.423               0.431    0.256   \n",
       "\n",
       "   confidence      lift  leverage  conviction  \n",
       "0    0.593968  1.404179  0.073687    1.421069  \n",
       "1    0.605201  1.404179  0.073687    1.441240  "
      ]
     },
     "execution_count": 25,
     "metadata": {},
     "output_type": "execute_result"
    }
   ],
   "source": [
    "rules.sort_values('lift',ascending=False)[0:20]"
   ]
  },
  {
   "cell_type": "code",
   "execution_count": 26,
   "id": "52d78f6b",
   "metadata": {},
   "outputs": [
    {
     "data": {
      "text/html": [
       "<div>\n",
       "<style scoped>\n",
       "    .dataframe tbody tr th:only-of-type {\n",
       "        vertical-align: middle;\n",
       "    }\n",
       "\n",
       "    .dataframe tbody tr th {\n",
       "        vertical-align: top;\n",
       "    }\n",
       "\n",
       "    .dataframe thead th {\n",
       "        text-align: right;\n",
       "    }\n",
       "</style>\n",
       "<table border=\"1\" class=\"dataframe\">\n",
       "  <thead>\n",
       "    <tr style=\"text-align: right;\">\n",
       "      <th></th>\n",
       "      <th>antecedents</th>\n",
       "      <th>consequents</th>\n",
       "      <th>antecedent support</th>\n",
       "      <th>consequent support</th>\n",
       "      <th>support</th>\n",
       "      <th>confidence</th>\n",
       "      <th>lift</th>\n",
       "      <th>leverage</th>\n",
       "      <th>conviction</th>\n",
       "    </tr>\n",
       "  </thead>\n",
       "  <tbody>\n",
       "    <tr>\n",
       "      <th>0</th>\n",
       "      <td>(CookBks)</td>\n",
       "      <td>(ChildBks)</td>\n",
       "      <td>0.431</td>\n",
       "      <td>0.423</td>\n",
       "      <td>0.256</td>\n",
       "      <td>0.593968</td>\n",
       "      <td>1.404179</td>\n",
       "      <td>0.073687</td>\n",
       "      <td>1.421069</td>\n",
       "    </tr>\n",
       "    <tr>\n",
       "      <th>1</th>\n",
       "      <td>(ChildBks)</td>\n",
       "      <td>(CookBks)</td>\n",
       "      <td>0.423</td>\n",
       "      <td>0.431</td>\n",
       "      <td>0.256</td>\n",
       "      <td>0.605201</td>\n",
       "      <td>1.404179</td>\n",
       "      <td>0.073687</td>\n",
       "      <td>1.441240</td>\n",
       "    </tr>\n",
       "  </tbody>\n",
       "</table>\n",
       "</div>"
      ],
      "text/plain": [
       "  antecedents consequents  antecedent support  consequent support  support  \\\n",
       "0   (CookBks)  (ChildBks)               0.431               0.423    0.256   \n",
       "1  (ChildBks)   (CookBks)               0.423               0.431    0.256   \n",
       "\n",
       "   confidence      lift  leverage  conviction  \n",
       "0    0.593968  1.404179  0.073687    1.421069  \n",
       "1    0.605201  1.404179  0.073687    1.441240  "
      ]
     },
     "execution_count": 26,
     "metadata": {},
     "output_type": "execute_result"
    }
   ],
   "source": [
    "rules[rules.lift>1]"
   ]
  },
  {
   "cell_type": "code",
   "execution_count": 27,
   "id": "770ed457",
   "metadata": {},
   "outputs": [
    {
     "data": {
      "text/plain": [
       "Text(0.5, 0, 'lift')"
      ]
     },
     "execution_count": 27,
     "metadata": {},
     "output_type": "execute_result"
    },
    {
     "data": {
      "image/png": "[encoded data removed]",
      "text/plain": [
       "<Figure size 432x288 with 1 Axes>"
      ]
     },
     "metadata": {
      "needs_background": "light"
     },
     "output_type": "display_data"
    }
   ],
   "source": [
    "plt.hist(rules['lift'],facecolor=\"green\",edgecolor=\"blue\",bins=5)\n",
    "plt.xlabel('lift')"
   ]
  },
  {
   "cell_type": "code",
   "execution_count": 28,
   "id": "fd102802",
   "metadata": {},
   "outputs": [
    {
     "data": {
      "text/plain": [
       "<AxesSubplot:xlabel='support', ylabel='confidence'>"
      ]
     },
     "execution_count": 28,
     "metadata": {},
     "output_type": "execute_result"
    },
    {
     "data": {
      "image/png": "[encoded data removed]",
      "text/plain": [
       "<Figure size 432x288 with 1 Axes>"
      ]
     },
     "metadata": {
      "needs_background": "light"
     },
     "output_type": "display_data"
    }
   ],
   "source": [
    "sns.boxplot(x=\"support\", y=\"confidence\", data=rules)"
   ]
  },
  {
   "cell_type": "code",
   "execution_count": 29,
   "id": "47d09a1f",
   "metadata": {},
   "outputs": [
    {
     "data": {
      "text/plain": [
       "<AxesSubplot:xlabel='lift'>"
      ]
     },
     "execution_count": 29,
     "metadata": {},
     "output_type": "execute_result"
    },
    {
     "data": {
      "image/png": "[encoded data removed]",
      "text/plain": [
       "<Figure size 432x288 with 1 Axes>"
      ]
     },
     "metadata": {
      "needs_background": "light"
     },
     "output_type": "display_data"
    }
   ],
   "source": [
    "sns.boxplot(rules['lift'])"
   ]
  },
  {
   "cell_type": "code",
   "execution_count": 30,
   "id": "29781b3c",
   "metadata": {},
   "outputs": [
    {
     "data": {
      "text/plain": [
       "<AxesSubplot:xlabel='lift', ylabel='confidence'>"
      ]
     },
     "execution_count": 30,
     "metadata": {},
     "output_type": "execute_result"
    },
    {
     "data": {
      "image/png": "[encoded data removed]",
      "text/plain": [
       "<Figure size 432x288 with 1 Axes>"
      ]
     },
     "metadata": {
      "needs_background": "light"
     },
     "output_type": "display_data"
    }
   ],
   "source": [
    "sns.scatterplot(x=\"lift\", y=\"confidence\", data=rules)"
   ]
  }
 ],
 "metadata": {
  "kernelspec": {
   "display_name": "Python 3",
   "language": "python",
   "name": "python3"
  },
  "language_info": {
   "codemirror_mode": {
    "name": "ipython",
    "version": 3
   },
   "file_extension": ".py",
   "mimetype": "text/x-python",
   "name": "python",
   "nbconvert_exporter": "python",
   "pygments_lexer": "ipython3",
   "version": "3.8.8"
  }
 },
 "nbformat": 4,
 "nbformat_minor": 5
}
